{
 "cells": [
  {
   "cell_type": "code",
   "execution_count": 5,
   "id": "3526eac7",
   "metadata": {},
   "outputs": [],
   "source": [
    "# import tensorflow as tf"
   ]
  },
  {
   "cell_type": "raw",
   "id": "04084d44",
   "metadata": {},
   "source": [
    "tf.Tensor --> multidimensional arrays that contain information about computational graph"
   ]
  },
  {
   "cell_type": "raw",
   "id": "ec37fca7",
   "metadata": {},
   "source": [
    "tf.Variable --> we can modify the state of the variable once created\n",
    "\n",
    "Variables can be created only once as its initial values defines the variable shape and size.\n",
    "dtype parameter in tf.Variable converts the variable to that data-type, else by default Tensor."
   ]
  },
  {
   "cell_type": "raw",
   "id": "4170ae41",
   "metadata": {},
   "source": [
    "tf.constant --> we cannot modify the state of the constant once created"
   ]
  },
  {
   "cell_type": "raw",
   "id": "195280c9",
   "metadata": {},
   "source": [
    "One-hot encoding --> It is a pre-processing technique used for conversion of categorical \n",
    "values to assign 0 and 1, where area utilization is more than \"label encoding\"."
   ]
  },
  {
   "cell_type": "raw",
   "id": "7b16b1ee",
   "metadata": {},
   "source": [
    "tf.GradientTape --> which records operations for differentation\n",
    "TensorFlow will compute the derivatives for you, by moving backwards through the graph recorded with \"GradientTape\""
   ]
  },
  {
   "cell_type": "code",
   "execution_count": null,
   "id": "b15f5f3e",
   "metadata": {},
   "outputs": [],
   "source": []
  }
 ],
 "metadata": {
  "kernelspec": {
   "display_name": "Python 3",
   "language": "python",
   "name": "python3"
  },
  "language_info": {
   "codemirror_mode": {
    "name": "ipython",
    "version": 3
   },
   "file_extension": ".py",
   "mimetype": "text/x-python",
   "name": "python",
   "nbconvert_exporter": "python",
   "pygments_lexer": "ipython3",
   "version": "3.9.7"
  }
 },
 "nbformat": 4,
 "nbformat_minor": 5
}
